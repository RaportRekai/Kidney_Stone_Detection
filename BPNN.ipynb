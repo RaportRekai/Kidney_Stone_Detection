{
  "nbformat": 4,
  "nbformat_minor": 0,
  "metadata": {
    "colab": {
      "provenance": [],
      "include_colab_link": true
    },
    "kernelspec": {
      "name": "python3",
      "display_name": "Python 3"
    },
    "language_info": {
      "name": "python"
    },
    "accelerator": "GPU",
    "gpuClass": "standard"
  },
  "cells": [
    {
      "cell_type": "markdown",
      "metadata": {
        "id": "view-in-github",
        "colab_type": "text"
      },
      "source": [
        "<a href=\"https://colab.research.google.com/github/RaportRekai/Kidney_Stone_Detection/blob/main/BPNN.ipynb\" target=\"_parent\"><img src=\"https://colab.research.google.com/assets/colab-badge.svg\" alt=\"Open In Colab\"/></a>"
      ]
    },
    {
      "cell_type": "code",
      "execution_count": null,
      "metadata": {
        "id": "pAUNZjYHMBXX"
      },
      "outputs": [],
      "source": [
        "import tensorflow as tf\n",
        "from tensorflow import keras\n",
        "from tensorflow.keras.models import Sequential\n",
        "from tensorflow.keras.layers import Activation,Dense\n",
        "from tensorflow.keras.optimizers import Adam\n",
        "from tensorflow.keras.metrics import categorical_crossentropy\n",
        "from sklearn.preprocessing import MinMaxScaler\n",
        "from sklearn.utils import shuffle\n",
        "import numpy as np\n",
        "from random import randint"
      ]
    },
    {
      "cell_type": "code",
      "source": [
        "model = Sequential([\n",
        "    Dense(units = 16,input_shape = (4,), activation = 'relu'),\n",
        "    Dense(units = 40, activation = 'relu'),\n",
        "    Dense(units = 1, activation = 'sigmoid')\n",
        "])\n",
        "model.summary()"
      ],
      "metadata": {
        "id": "Z7YdB3vAz-Yp",
        "colab": {
          "base_uri": "https://localhost:8080/"
        },
        "outputId": "9a4a5e12-3353-4310-b480-3c0ac2f3c976"
      },
      "execution_count": null,
      "outputs": [
        {
          "output_type": "stream",
          "name": "stdout",
          "text": [
            "Model: \"sequential\"\n",
            "_________________________________________________________________\n",
            " Layer (type)                Output Shape              Param #   \n",
            "=================================================================\n",
            " dense (Dense)               (None, 16)                80        \n",
            "                                                                 \n",
            " dense_1 (Dense)             (None, 40)                680       \n",
            "                                                                 \n",
            " dense_2 (Dense)             (None, 1)                 41        \n",
            "                                                                 \n",
            "=================================================================\n",
            "Total params: 801\n",
            "Trainable params: 801\n",
            "Non-trainable params: 0\n",
            "_________________________________________________________________\n"
          ]
        }
      ]
    },
    {
      "cell_type": "code",
      "source": [
        "import pandas as pd\n",
        "df = pd.read_csv(\"/content/M2.csv\")\n",
        "df"
      ],
      "metadata": {
        "colab": {
          "base_uri": "https://localhost:8080/",
          "height": 423
        },
        "id": "1CJ1F5veNfPB",
        "outputId": "e9c2a01c-3fa7-434b-cb5a-eba5e3536390"
      },
      "execution_count": null,
      "outputs": [
        {
          "output_type": "execute_result",
          "data": {
            "text/plain": [
              "      Contrast  Correlation    Energy  Homogeneity  Result\n",
              "0     0.146052     0.950047  0.678474     0.963549       1\n",
              "1     0.151541     0.947862  0.681694     0.962777       1\n",
              "2     0.131398     0.958688  0.514790     0.952936       1\n",
              "3     0.131972     0.959382  0.515738     0.952692       1\n",
              "4     0.132247     0.960214  0.516277     0.952706       1\n",
              "...        ...          ...       ...          ...     ...\n",
              "4113  0.158994     0.967457  0.509410     0.960167       0\n",
              "4114  0.156678     0.967571  0.510278     0.960536       0\n",
              "4115  0.154522     0.967655  0.510964     0.961028       0\n",
              "4116  0.152435     0.967703  0.511975     0.961679       0\n",
              "4117  0.152879     0.967366  0.512693     0.961571       0\n",
              "\n",
              "[4118 rows x 5 columns]"
            ],
            "text/html": [
              "\n",
              "  <div id=\"df-21348afe-6778-4430-978f-33dd01fb8893\">\n",
              "    <div class=\"colab-df-container\">\n",
              "      <div>\n",
              "<style scoped>\n",
              "    .dataframe tbody tr th:only-of-type {\n",
              "        vertical-align: middle;\n",
              "    }\n",
              "\n",
              "    .dataframe tbody tr th {\n",
              "        vertical-align: top;\n",
              "    }\n",
              "\n",
              "    .dataframe thead th {\n",
              "        text-align: right;\n",
              "    }\n",
              "</style>\n",
              "<table border=\"1\" class=\"dataframe\">\n",
              "  <thead>\n",
              "    <tr style=\"text-align: right;\">\n",
              "      <th></th>\n",
              "      <th>Contrast</th>\n",
              "      <th>Correlation</th>\n",
              "      <th>Energy</th>\n",
              "      <th>Homogeneity</th>\n",
              "      <th>Result</th>\n",
              "    </tr>\n",
              "  </thead>\n",
              "  <tbody>\n",
              "    <tr>\n",
              "      <th>0</th>\n",
              "      <td>0.146052</td>\n",
              "      <td>0.950047</td>\n",
              "      <td>0.678474</td>\n",
              "      <td>0.963549</td>\n",
              "      <td>1</td>\n",
              "    </tr>\n",
              "    <tr>\n",
              "      <th>1</th>\n",
              "      <td>0.151541</td>\n",
              "      <td>0.947862</td>\n",
              "      <td>0.681694</td>\n",
              "      <td>0.962777</td>\n",
              "      <td>1</td>\n",
              "    </tr>\n",
              "    <tr>\n",
              "      <th>2</th>\n",
              "      <td>0.131398</td>\n",
              "      <td>0.958688</td>\n",
              "      <td>0.514790</td>\n",
              "      <td>0.952936</td>\n",
              "      <td>1</td>\n",
              "    </tr>\n",
              "    <tr>\n",
              "      <th>3</th>\n",
              "      <td>0.131972</td>\n",
              "      <td>0.959382</td>\n",
              "      <td>0.515738</td>\n",
              "      <td>0.952692</td>\n",
              "      <td>1</td>\n",
              "    </tr>\n",
              "    <tr>\n",
              "      <th>4</th>\n",
              "      <td>0.132247</td>\n",
              "      <td>0.960214</td>\n",
              "      <td>0.516277</td>\n",
              "      <td>0.952706</td>\n",
              "      <td>1</td>\n",
              "    </tr>\n",
              "    <tr>\n",
              "      <th>...</th>\n",
              "      <td>...</td>\n",
              "      <td>...</td>\n",
              "      <td>...</td>\n",
              "      <td>...</td>\n",
              "      <td>...</td>\n",
              "    </tr>\n",
              "    <tr>\n",
              "      <th>4113</th>\n",
              "      <td>0.158994</td>\n",
              "      <td>0.967457</td>\n",
              "      <td>0.509410</td>\n",
              "      <td>0.960167</td>\n",
              "      <td>0</td>\n",
              "    </tr>\n",
              "    <tr>\n",
              "      <th>4114</th>\n",
              "      <td>0.156678</td>\n",
              "      <td>0.967571</td>\n",
              "      <td>0.510278</td>\n",
              "      <td>0.960536</td>\n",
              "      <td>0</td>\n",
              "    </tr>\n",
              "    <tr>\n",
              "      <th>4115</th>\n",
              "      <td>0.154522</td>\n",
              "      <td>0.967655</td>\n",
              "      <td>0.510964</td>\n",
              "      <td>0.961028</td>\n",
              "      <td>0</td>\n",
              "    </tr>\n",
              "    <tr>\n",
              "      <th>4116</th>\n",
              "      <td>0.152435</td>\n",
              "      <td>0.967703</td>\n",
              "      <td>0.511975</td>\n",
              "      <td>0.961679</td>\n",
              "      <td>0</td>\n",
              "    </tr>\n",
              "    <tr>\n",
              "      <th>4117</th>\n",
              "      <td>0.152879</td>\n",
              "      <td>0.967366</td>\n",
              "      <td>0.512693</td>\n",
              "      <td>0.961571</td>\n",
              "      <td>0</td>\n",
              "    </tr>\n",
              "  </tbody>\n",
              "</table>\n",
              "<p>4118 rows × 5 columns</p>\n",
              "</div>\n",
              "      <button class=\"colab-df-convert\" onclick=\"convertToInteractive('df-21348afe-6778-4430-978f-33dd01fb8893')\"\n",
              "              title=\"Convert this dataframe to an interactive table.\"\n",
              "              style=\"display:none;\">\n",
              "        \n",
              "  <svg xmlns=\"http://www.w3.org/2000/svg\" height=\"24px\"viewBox=\"0 0 24 24\"\n",
              "       width=\"24px\">\n",
              "    <path d=\"M0 0h24v24H0V0z\" fill=\"none\"/>\n",
              "    <path d=\"M18.56 5.44l.94 2.06.94-2.06 2.06-.94-2.06-.94-.94-2.06-.94 2.06-2.06.94zm-11 1L8.5 8.5l.94-2.06 2.06-.94-2.06-.94L8.5 2.5l-.94 2.06-2.06.94zm10 10l.94 2.06.94-2.06 2.06-.94-2.06-.94-.94-2.06-.94 2.06-2.06.94z\"/><path d=\"M17.41 7.96l-1.37-1.37c-.4-.4-.92-.59-1.43-.59-.52 0-1.04.2-1.43.59L10.3 9.45l-7.72 7.72c-.78.78-.78 2.05 0 2.83L4 21.41c.39.39.9.59 1.41.59.51 0 1.02-.2 1.41-.59l7.78-7.78 2.81-2.81c.8-.78.8-2.07 0-2.86zM5.41 20L4 18.59l7.72-7.72 1.47 1.35L5.41 20z\"/>\n",
              "  </svg>\n",
              "      </button>\n",
              "      \n",
              "  <style>\n",
              "    .colab-df-container {\n",
              "      display:flex;\n",
              "      flex-wrap:wrap;\n",
              "      gap: 12px;\n",
              "    }\n",
              "\n",
              "    .colab-df-convert {\n",
              "      background-color: #E8F0FE;\n",
              "      border: none;\n",
              "      border-radius: 50%;\n",
              "      cursor: pointer;\n",
              "      display: none;\n",
              "      fill: #1967D2;\n",
              "      height: 32px;\n",
              "      padding: 0 0 0 0;\n",
              "      width: 32px;\n",
              "    }\n",
              "\n",
              "    .colab-df-convert:hover {\n",
              "      background-color: #E2EBFA;\n",
              "      box-shadow: 0px 1px 2px rgba(60, 64, 67, 0.3), 0px 1px 3px 1px rgba(60, 64, 67, 0.15);\n",
              "      fill: #174EA6;\n",
              "    }\n",
              "\n",
              "    [theme=dark] .colab-df-convert {\n",
              "      background-color: #3B4455;\n",
              "      fill: #D2E3FC;\n",
              "    }\n",
              "\n",
              "    [theme=dark] .colab-df-convert:hover {\n",
              "      background-color: #434B5C;\n",
              "      box-shadow: 0px 1px 3px 1px rgba(0, 0, 0, 0.15);\n",
              "      filter: drop-shadow(0px 1px 2px rgba(0, 0, 0, 0.3));\n",
              "      fill: #FFFFFF;\n",
              "    }\n",
              "  </style>\n",
              "\n",
              "      <script>\n",
              "        const buttonEl =\n",
              "          document.querySelector('#df-21348afe-6778-4430-978f-33dd01fb8893 button.colab-df-convert');\n",
              "        buttonEl.style.display =\n",
              "          google.colab.kernel.accessAllowed ? 'block' : 'none';\n",
              "\n",
              "        async function convertToInteractive(key) {\n",
              "          const element = document.querySelector('#df-21348afe-6778-4430-978f-33dd01fb8893');\n",
              "          const dataTable =\n",
              "            await google.colab.kernel.invokeFunction('convertToInteractive',\n",
              "                                                     [key], {});\n",
              "          if (!dataTable) return;\n",
              "\n",
              "          const docLinkHtml = 'Like what you see? Visit the ' +\n",
              "            '<a target=\"_blank\" href=https://colab.research.google.com/notebooks/data_table.ipynb>data table notebook</a>'\n",
              "            + ' to learn more about interactive tables.';\n",
              "          element.innerHTML = '';\n",
              "          dataTable['output_type'] = 'display_data';\n",
              "          await google.colab.output.renderOutput(dataTable, element);\n",
              "          const docLink = document.createElement('div');\n",
              "          docLink.innerHTML = docLinkHtml;\n",
              "          element.appendChild(docLink);\n",
              "        }\n",
              "      </script>\n",
              "    </div>\n",
              "  </div>\n",
              "  "
            ]
          },
          "metadata": {},
          "execution_count": 3
        }
      ]
    },
    {
      "cell_type": "code",
      "source": [
        "without_result_column = df.drop(['Result'], axis=1)\n",
        "without_result_column\n",
        "x_train = np.array(without_result_column)\n",
        "y_out = df['Result']\n",
        "y_train = np.array(y_out)\n",
        "y_train = y_train.reshape(4118,1)\n",
        "y_train"
      ],
      "metadata": {
        "id": "6bT8VSpNw5gO",
        "colab": {
          "base_uri": "https://localhost:8080/"
        },
        "outputId": "dd097650-75af-4463-b056-a4a7403d81f4"
      },
      "execution_count": null,
      "outputs": [
        {
          "output_type": "execute_result",
          "data": {
            "text/plain": [
              "array([[1],\n",
              "       [1],\n",
              "       [1],\n",
              "       ...,\n",
              "       [0],\n",
              "       [0],\n",
              "       [0]])"
            ]
          },
          "metadata": {},
          "execution_count": 4
        }
      ]
    },
    {
      "cell_type": "code",
      "source": [
        "model.compile(optimizer = Adam(learning_rate = 0.001),loss = tf.keras.losses.BinaryCrossentropy(from_logits=True),metrics = 'accuracy')"
      ],
      "metadata": {
        "id": "ThI1ET8n1zzI"
      },
      "execution_count": null,
      "outputs": []
    },
    {
      "cell_type": "code",
      "source": [
        "model.fit(x = x_train, y = y_train, validation_split = 0.1,batch_size = 10,epochs = 40,shuffle  =True,verbose  =2)"
      ],
      "metadata": {
        "id": "HxvZyNF-2TNi",
        "colab": {
          "base_uri": "https://localhost:8080/"
        },
        "outputId": "25d156ca-85c6-411d-ebbf-945a49979a13"
      },
      "execution_count": null,
      "outputs": [
        {
          "output_type": "stream",
          "name": "stdout",
          "text": [
            "Epoch 1/40\n",
            "371/371 - 1s - loss: 0.3694 - accuracy: 0.8206 - val_loss: 0.3121 - val_accuracy: 0.8956 - 1s/epoch - 3ms/step\n",
            "Epoch 2/40\n",
            "371/371 - 1s - loss: 0.3685 - accuracy: 0.8276 - val_loss: 0.4524 - val_accuracy: 0.7573 - 1s/epoch - 3ms/step\n",
            "Epoch 3/40\n",
            "371/371 - 2s - loss: 0.3737 - accuracy: 0.8268 - val_loss: 0.1728 - val_accuracy: 1.0000 - 2s/epoch - 4ms/step\n",
            "Epoch 4/40\n",
            "371/371 - 1s - loss: 0.3643 - accuracy: 0.8292 - val_loss: 0.2533 - val_accuracy: 0.9466 - 1s/epoch - 3ms/step\n",
            "Epoch 5/40\n",
            "371/371 - 1s - loss: 0.3642 - accuracy: 0.8316 - val_loss: 0.2098 - val_accuracy: 0.9757 - 1s/epoch - 3ms/step\n",
            "Epoch 6/40\n",
            "371/371 - 1s - loss: 0.3604 - accuracy: 0.8257 - val_loss: 0.2469 - val_accuracy: 0.9417 - 1s/epoch - 3ms/step\n",
            "Epoch 7/40\n",
            "371/371 - 1s - loss: 0.3633 - accuracy: 0.8287 - val_loss: 0.2689 - val_accuracy: 0.9175 - 1s/epoch - 3ms/step\n",
            "Epoch 8/40\n",
            "371/371 - 1s - loss: 0.3601 - accuracy: 0.8311 - val_loss: 0.3289 - val_accuracy: 0.8738 - 1s/epoch - 3ms/step\n",
            "Epoch 9/40\n",
            "371/371 - 1s - loss: 0.3516 - accuracy: 0.8386 - val_loss: 0.3015 - val_accuracy: 0.8883 - 1s/epoch - 3ms/step\n",
            "Epoch 10/40\n",
            "371/371 - 1s - loss: 0.3530 - accuracy: 0.8349 - val_loss: 0.2495 - val_accuracy: 0.9272 - 1s/epoch - 3ms/step\n",
            "Epoch 11/40\n",
            "371/371 - 1s - loss: 0.3554 - accuracy: 0.8368 - val_loss: 0.2892 - val_accuracy: 0.8883 - 1s/epoch - 3ms/step\n",
            "Epoch 12/40\n",
            "371/371 - 1s - loss: 0.3495 - accuracy: 0.8365 - val_loss: 0.2580 - val_accuracy: 0.9150 - 1s/epoch - 3ms/step\n",
            "Epoch 13/40\n",
            "371/371 - 2s - loss: 0.3507 - accuracy: 0.8343 - val_loss: 0.2388 - val_accuracy: 0.9272 - 2s/epoch - 4ms/step\n",
            "Epoch 14/40\n",
            "371/371 - 2s - loss: 0.3529 - accuracy: 0.8389 - val_loss: 0.2390 - val_accuracy: 0.9272 - 2s/epoch - 5ms/step\n",
            "Epoch 15/40\n",
            "371/371 - 2s - loss: 0.3469 - accuracy: 0.8394 - val_loss: 0.3425 - val_accuracy: 0.8592 - 2s/epoch - 5ms/step\n",
            "Epoch 16/40\n",
            "371/371 - 2s - loss: 0.3431 - accuracy: 0.8405 - val_loss: 0.2733 - val_accuracy: 0.8908 - 2s/epoch - 5ms/step\n",
            "Epoch 17/40\n",
            "371/371 - 2s - loss: 0.3441 - accuracy: 0.8446 - val_loss: 0.3839 - val_accuracy: 0.8350 - 2s/epoch - 4ms/step\n",
            "Epoch 18/40\n",
            "371/371 - 1s - loss: 0.3425 - accuracy: 0.8400 - val_loss: 0.5118 - val_accuracy: 0.6942 - 1s/epoch - 3ms/step\n",
            "Epoch 19/40\n",
            "371/371 - 1s - loss: 0.3433 - accuracy: 0.8419 - val_loss: 0.3833 - val_accuracy: 0.8374 - 1s/epoch - 3ms/step\n",
            "Epoch 20/40\n",
            "371/371 - 1s - loss: 0.3382 - accuracy: 0.8413 - val_loss: 0.4232 - val_accuracy: 0.8010 - 1s/epoch - 3ms/step\n",
            "Epoch 21/40\n",
            "371/371 - 1s - loss: 0.3356 - accuracy: 0.8432 - val_loss: 0.2459 - val_accuracy: 0.9053 - 1s/epoch - 3ms/step\n",
            "Epoch 22/40\n",
            "371/371 - 2s - loss: 0.3340 - accuracy: 0.8462 - val_loss: 0.4373 - val_accuracy: 0.7791 - 2s/epoch - 4ms/step\n",
            "Epoch 23/40\n",
            "371/371 - 1s - loss: 0.3339 - accuracy: 0.8457 - val_loss: 0.7396 - val_accuracy: 0.5583 - 1s/epoch - 3ms/step\n",
            "Epoch 24/40\n",
            "371/371 - 1s - loss: 0.3329 - accuracy: 0.8519 - val_loss: 0.3287 - val_accuracy: 0.8617 - 1s/epoch - 3ms/step\n",
            "Epoch 25/40\n",
            "371/371 - 1s - loss: 0.3278 - accuracy: 0.8497 - val_loss: 0.4113 - val_accuracy: 0.8180 - 1s/epoch - 3ms/step\n",
            "Epoch 26/40\n",
            "371/371 - 1s - loss: 0.3232 - accuracy: 0.8508 - val_loss: 0.2297 - val_accuracy: 0.9150 - 1s/epoch - 3ms/step\n",
            "Epoch 27/40\n",
            "371/371 - 1s - loss: 0.3233 - accuracy: 0.8521 - val_loss: 0.4187 - val_accuracy: 0.8058 - 997ms/epoch - 3ms/step\n",
            "Epoch 28/40\n",
            "371/371 - 1s - loss: 0.3197 - accuracy: 0.8540 - val_loss: 0.2899 - val_accuracy: 0.8811 - 1s/epoch - 3ms/step\n",
            "Epoch 29/40\n",
            "371/371 - 1s - loss: 0.3177 - accuracy: 0.8581 - val_loss: 0.5785 - val_accuracy: 0.6359 - 1s/epoch - 3ms/step\n",
            "Epoch 30/40\n",
            "371/371 - 1s - loss: 0.3233 - accuracy: 0.8527 - val_loss: 0.1505 - val_accuracy: 0.9733 - 1s/epoch - 3ms/step\n",
            "Epoch 31/40\n",
            "371/371 - 1s - loss: 0.3184 - accuracy: 0.8575 - val_loss: 0.2827 - val_accuracy: 0.8811 - 999ms/epoch - 3ms/step\n",
            "Epoch 32/40\n",
            "371/371 - 1s - loss: 0.3171 - accuracy: 0.8583 - val_loss: 0.3016 - val_accuracy: 0.8738 - 1s/epoch - 4ms/step\n",
            "Epoch 33/40\n",
            "371/371 - 2s - loss: 0.3152 - accuracy: 0.8570 - val_loss: 0.2440 - val_accuracy: 0.8908 - 2s/epoch - 4ms/step\n",
            "Epoch 34/40\n",
            "371/371 - 1s - loss: 0.3123 - accuracy: 0.8583 - val_loss: 0.3640 - val_accuracy: 0.8422 - 1s/epoch - 3ms/step\n",
            "Epoch 35/40\n",
            "371/371 - 1s - loss: 0.3100 - accuracy: 0.8640 - val_loss: 0.2592 - val_accuracy: 0.8835 - 1s/epoch - 3ms/step\n",
            "Epoch 36/40\n",
            "371/371 - 1s - loss: 0.3087 - accuracy: 0.8589 - val_loss: 0.2248 - val_accuracy: 0.9053 - 1s/epoch - 3ms/step\n",
            "Epoch 37/40\n",
            "371/371 - 1s - loss: 0.3020 - accuracy: 0.8705 - val_loss: 0.4879 - val_accuracy: 0.7403 - 1s/epoch - 3ms/step\n",
            "Epoch 38/40\n",
            "371/371 - 1s - loss: 0.3059 - accuracy: 0.8608 - val_loss: 0.7765 - val_accuracy: 0.5534 - 1s/epoch - 3ms/step\n",
            "Epoch 39/40\n",
            "371/371 - 1s - loss: 0.3043 - accuracy: 0.8705 - val_loss: 0.4507 - val_accuracy: 0.7961 - 1s/epoch - 3ms/step\n",
            "Epoch 40/40\n",
            "371/371 - 1s - loss: 0.3002 - accuracy: 0.8667 - val_loss: 0.5992 - val_accuracy: 0.6432 - 1s/epoch - 3ms/step\n"
          ]
        },
        {
          "output_type": "execute_result",
          "data": {
            "text/plain": [
              "<keras.callbacks.History at 0x7fbedc0751f0>"
            ]
          },
          "metadata": {},
          "execution_count": 10
        }
      ]
    },
    {
      "cell_type": "code",
      "source": [
        "#0.146052 \t0.950047 \t0.678474 \t0.963549 = 1\n",
        "#0.158994 \t0.967457 \t0.509410 \t0.960167 = 0\n",
        "# 0.131398,\t0.958688,\t0.514790,\t0.952936 = 1,\n",
        "# 0.154522,\t0.967655,\t0.510964,\t0.961028 = 0\n",
        "# 0.131972,\t0.959382,\t0.515738,\t0.952692 = 1\n",
        "inpt = [[0.146052, \t0.950047, \t0.678474, \t0.963549],[0.158994, \t0.967457, \t0.509410, \t0.960167],[0.131398,\t0.958688,\t0.514790,\t0.952936],[0.154522,\t0.967655,\t0.510964,\t0.961028\t],[\t0.131972,\t0.959382,\t0.515738,\t0.952692]]"
      ],
      "metadata": {
        "id": "AvKaibjH44ht"
      },
      "execution_count": null,
      "outputs": []
    },
    {
      "cell_type": "code",
      "source": [
        "ori = [1,0,1,0,1]\n",
        "ar = []\n",
        "arr = model.predict(x = inpt, batch_size = 10,verbose = 0)\n",
        "arr\n",
        "for i in arr:\n",
        "    if i <0.4:\n",
        "        print(\"No Stone detected\")\n",
        "        ar.append(0)\n",
        "    else:\n",
        "        print(\"Stone detected\")\n",
        "        ar.append(1)\n",
        "ar"
      ],
      "metadata": {
        "colab": {
          "base_uri": "https://localhost:8080/"
        },
        "id": "FP5256kadpkv",
        "outputId": "50044428-e007-4898-e78d-4ca7c8fa950a"
      },
      "execution_count": null,
      "outputs": [
        {
          "output_type": "stream",
          "name": "stdout",
          "text": [
            "Stone detected\n",
            "No Stone detected\n",
            "Stone detected\n",
            "No Stone detected\n",
            "Stone detected\n"
          ]
        },
        {
          "output_type": "execute_result",
          "data": {
            "text/plain": [
              "[1, 0, 1, 0, 1]"
            ]
          },
          "metadata": {},
          "execution_count": 34
        }
      ]
    },
    {
      "cell_type": "code",
      "source": [
        "import seaborn as sns\n",
        "from sklearn.metrics import confusion_matrix\n",
        "cm_nn = pd.crosstab(ori, ar, rownames={\"Actual\"}, colnames={\"Predicted\"})\n",
        "sns.heatmap(cm_nn, annot=True, fmt='d')"
      ],
      "metadata": {
        "colab": {
          "base_uri": "https://localhost:8080/",
          "height": 472
        },
        "id": "9bv4ZdxPl0fI",
        "outputId": "b7f958d1-bd15-40e2-f31f-e95c2572d820"
      },
      "execution_count": null,
      "outputs": [
        {
          "output_type": "execute_result",
          "data": {
            "text/plain": [
              "<Axes: xlabel='Predicted', ylabel='Actual'>"
            ]
          },
          "metadata": {},
          "execution_count": 35
        },
        {
          "output_type": "display_data",
          "data": {
            "text/plain": [
              "<Figure size 640x480 with 2 Axes>"
            ],
            "image/png": "[encoded data removed]"
          },
          "metadata": {}
        }
      ]
    }
  ]
}